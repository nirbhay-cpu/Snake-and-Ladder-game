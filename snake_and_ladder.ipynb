{
 "cells": [
  {
   "cell_type": "markdown",
   "metadata": {
    "scrolled": false
   },
   "source": [
    "# SNAKE AND LADDER GAME"
   ]
  },
  {
   "cell_type": "code",
   "execution_count": 1,
   "metadata": {},
   "outputs": [],
   "source": [
    "#import libraries\n",
    "\n",
    "import pyttsx3\n",
    "import playsound\n",
    "import random"
   ]
  },
  {
   "cell_type": "markdown",
   "metadata": {},
   "source": [
    "#### Make a func for TEXT TO SPPECH"
   ]
  },
  {
   "cell_type": "code",
   "execution_count": 2,
   "metadata": {},
   "outputs": [],
   "source": [
    "def vc_cmnd(txt):\n",
    "    engine = pyttsx3.init()                         # initialize pyttsx engine\n",
    "    engine.setProperty('rate', 128)                 # set voice rate and choose voice\n",
    "    engine.setProperty('voice', 'HKEY_LOCAL_MACHINE\\SOFTWARE\\Microsoft\\Speech\\Voices\\Tokens\\TTS_MS_EN-US_ZIRA_11.0')\n",
    "    engine.say(txt)                                 # make it speak by using say function\n",
    "    engine.runAndWait()\n",
    "    "
   ]
  },
  {
   "cell_type": "markdown",
   "metadata": {},
   "source": [
    "#### Make a func for choosing message when a LADDER is encounter and play sound for it"
   ]
  },
  {
   "cell_type": "code",
   "execution_count": 3,
   "metadata": {},
   "outputs": [],
   "source": [
    "def prila():\n",
    "    m1=[\"GOING UP\",\"MARVELOUS\",\"GOING TO NEXT LEVEL\",\"ABOVE THE CLOUD\"]\n",
    "    r=random.choice(m1)                            # choose random messages from m1 by using random func\n",
    "    playsound.playsound(\"E:\\\\ladder.mp3\")          # play the sound by using playsound module and give address where sound \n",
    "                                                   # is saved as argument\n",
    "    print(r)\n",
    "    vc_cmnd(r)                                     # calling func for text to speech"
   ]
  },
  {
   "cell_type": "markdown",
   "metadata": {},
   "source": [
    "#### Make a func for choosing message when a SNAKE is encounter and play sound for it"
   ]
  },
  {
   "cell_type": "code",
   "execution_count": 4,
   "metadata": {},
   "outputs": [],
   "source": [
    "def prisna():\n",
    "    m2=[\"GOING DOWN\",\"BAD LUCK\",\"DAMN! A SNAKE\",\"HISSSSSSS\"]\n",
    "    r=random.choice(m2)                             # choose random messages from m2 by using random func\n",
    "    playsound.playsound(\"E:\\\\snake.mp3\")            # play the sound by using playsound module and give address where sound\n",
    "                                                    # is saved as argument\n",
    "    print(r)\n",
    "    vc_cmnd(r)                                      # calling func for text to speech"
   ]
  },
  {
   "cell_type": "markdown",
   "metadata": {},
   "source": [
    "#### Make a func to move Player's token"
   ]
  },
  {
   "cell_type": "code",
   "execution_count": 5,
   "metadata": {},
   "outputs": [],
   "source": [
    "def turn(a,c):\n",
    "    d = [1, 2, 3, 4, 5, 6]                          # make a list of 6 number for dice\n",
    "    r = random.choice(d)                            # choose a no. from list randomly like a dice\n",
    "    print(r)\n",
    "    if (r == 6 or r == 1) and c == 0:               # set a condition that player start moving when there is 1 or 6\n",
    "        c=c+1\n",
    "    if c == 1:\n",
    "        a = a + r\n",
    "    if a in snake.keys() or a in ladder.keys():     # make a condition, if player encounter a snake or ladder\n",
    "        if a in lst1:\n",
    "            a = snake[a]\n",
    "            prisna()                                # calling func for snake message\n",
    "        else:\n",
    "            a = ladder[a]\n",
    "            prila()                                 # calling func for ladder message\n",
    "    if a>20:                                        # condition if player have number greater than 20\n",
    "        a=a-r\n",
    "    return a,c"
   ]
  },
  {
   "cell_type": "markdown",
   "metadata": {},
   "source": [
    "#### NOW, Initializing program"
   ]
  },
  {
   "cell_type": "code",
   "execution_count": 6,
   "metadata": {
    "scrolled": false
   },
   "outputs": [
    {
     "name": "stdout",
     "output_type": "stream",
     "text": [
      "SNAKE LADDER GAMES\n",
      "[1, 2, 3, 4, 5, 6, 7, 8, 9, 10]\n",
      "[20, 19, 18, 17, 16, 15, 14, 13, 12, 11]\n",
      "ladder--> {2: 13, 10: 16}\n",
      "snake--> {12: 4, 15: 3, 18: 2}\n",
      "for START press enter\n",
      "Player 1 turns......\n",
      "1\n",
      "PLAYER 1 at  1\n",
      "\n",
      "\n",
      "Player 2 turns........\n",
      "5\n",
      "PLAYER 2 at 0\n",
      "\n",
      "\n",
      "Player 1 turns......\n",
      "4\n",
      "PLAYER 1 at  5\n",
      "\n",
      "\n",
      "Player 2 turns........\n",
      "2\n",
      "PLAYER 2 at 0\n",
      "\n",
      "\n",
      "Player 1 turns......\n",
      "2\n",
      "PLAYER 1 at  7\n",
      "\n",
      "\n",
      "Player 2 turns........\n",
      "3\n",
      "PLAYER 2 at 0\n",
      "\n",
      "\n",
      "Player 1 turns......\n",
      "2\n",
      "PLAYER 1 at  9\n",
      "\n",
      "\n",
      "Player 2 turns........\n",
      "6\n",
      "PLAYER 2 at 6\n",
      "\n",
      "\n",
      "Player 1 turns......\n",
      "3\n",
      "HISSSSSSS\n",
      "PLAYER 1 at  4\n",
      "\n",
      "\n",
      "Player 2 turns........\n",
      "1\n",
      "PLAYER 2 at 7\n",
      "\n",
      "\n",
      "Player 1 turns......\n",
      "1\n",
      "PLAYER 1 at  5\n",
      "\n",
      "\n",
      "Player 2 turns........\n",
      "5\n",
      "GOING DOWN\n",
      "PLAYER 2 at 4\n",
      "\n",
      "\n",
      "Player 1 turns......\n",
      "6\n",
      "PLAYER 1 at  11\n",
      "\n",
      "\n",
      "Player 2 turns........\n",
      "1\n",
      "PLAYER 2 at 5\n",
      "\n",
      "\n",
      "Player 1 turns......\n",
      "6\n",
      "PLAYER 1 at  17\n",
      "\n",
      "\n",
      "Player 2 turns........\n",
      "3\n",
      "PLAYER 2 at 8\n",
      "\n",
      "\n",
      "Player 1 turns......\n",
      "1\n",
      "BAD LUCK\n",
      "PLAYER 1 at  2\n",
      "\n",
      "\n",
      "Player 2 turns........\n",
      "5\n",
      "PLAYER 2 at 13\n",
      "\n",
      "\n",
      "Player 1 turns......\n",
      "2\n",
      "PLAYER 1 at  4\n",
      "\n",
      "\n",
      "Player 2 turns........\n",
      "1\n",
      "PLAYER 2 at 14\n",
      "\n",
      "\n",
      "Player 1 turns......\n",
      "2\n",
      "PLAYER 1 at  6\n",
      "\n",
      "\n",
      "Player 2 turns........\n",
      "3\n",
      "PLAYER 2 at 17\n",
      "\n",
      "\n",
      "Player 1 turns......\n",
      "5\n",
      "PLAYER 1 at  11\n",
      "\n",
      "\n",
      "Player 2 turns........\n",
      "5\n",
      "PLAYER 2 at 17\n",
      "\n",
      "\n",
      "Player 1 turns......\n",
      "2\n",
      "PLAYER 1 at  13\n",
      "\n",
      "\n",
      "Player 2 turns........\n",
      "2\n",
      "PLAYER 2 at 19\n",
      "\n",
      "\n",
      "Player 1 turns......\n",
      "3\n",
      "PLAYER 1 at  16\n",
      "\n",
      "\n",
      "Player 2 turns........\n",
      "6\n",
      "PLAYER 2 at 19\n",
      "\n",
      "\n",
      "Player 1 turns......\n",
      "4\n",
      "PLAYER 1 at  20\n",
      "\n",
      "\n",
      "PLAYER 1 WINS\n",
      "GAME END\n"
     ]
    }
   ],
   "source": [
    "print(\"SNAKE LADDER GAMES\")\n",
    "lst1=[20,19,18,17,16,15,14,13,12,11]                 # initialize two list from 1 - 20 as in snake and ladder game\n",
    "lst2=[ 1, 2, 3, 4, 5, 6, 7, 8, 9,10]\n",
    "print(lst2)                                          # and print them \n",
    "print(lst1)\n",
    "snake={12:4,15:3,18:2}                               # make a dictionary for snake\n",
    "ladder={2:13,10:16}                                  # make a dictionary for ladder\n",
    "print(\"ladder-->\",ladder)\n",
    "print(\"snake-->\",snake)\n",
    "vc_cmnd(\"Press enter to start game\")                 # calling func for text to speech\n",
    "a=input(\"for START press enter\")\n",
    "\n",
    "playsound.playsound(\"E:\\\\air.mp3\")                   # play a sound when game is start\n",
    "\n",
    "n,m,c1,c2=0,0,0,0\n",
    "while n<20 and m<20:\n",
    "    vc_cmnd(\"Player 1 turns, press enter\")          # calling func for text to speech\n",
    "    a=input(\"Player 1 turns......\")\n",
    "    \n",
    "    n,c1=turn(n,c1)                                 # calling func for player one's turn\n",
    "    vc_cmnd(\"PLAYER 1 at {} \".format(n))            \n",
    "    print(\"PLAYER 1 at \",n)\n",
    "    print(\"\\n\")\n",
    "    \n",
    "    if n==20:\n",
    "        break\n",
    "    vc_cmnd(\"Player 2 turns, press enter\")           # calling func for text to speech\n",
    "    a=input(\"Player 2 turns........\")\n",
    "    \n",
    "    m,c2=turn(m,c2)                                  # calling func for player two's turn\n",
    "    vc_cmnd(\"PLAYER 2 at {} \".format(m))\n",
    "    print(\"PLAYER 2 at\",m)\n",
    "    print(\"\\n\")\n",
    "    \n",
    "    if m==20:\n",
    "        break\n",
    "if n==20:                                            # condition when a player reach 20 \n",
    "    print(\"PLAYER 1 WINS\")\n",
    "    vc_cmnd(\"PLAYER 1 WINS\")   \n",
    "else:\n",
    "    print(\"PLAYER 2 WINS\")  \n",
    "    vc_cmnd(\"PLAYER 1 WINS\")\n",
    "print(\"GAME END\")\n",
    "playsound.playsound(\"E:\\\\air.mp3\")\n",
    "\n"
   ]
  },
  {
   "cell_type": "code",
   "execution_count": null,
   "metadata": {},
   "outputs": [],
   "source": []
  },
  {
   "cell_type": "code",
   "execution_count": null,
   "metadata": {},
   "outputs": [],
   "source": []
  },
  {
   "cell_type": "code",
   "execution_count": null,
   "metadata": {},
   "outputs": [],
   "source": []
  },
  {
   "cell_type": "code",
   "execution_count": null,
   "metadata": {},
   "outputs": [],
   "source": []
  },
  {
   "cell_type": "code",
   "execution_count": null,
   "metadata": {},
   "outputs": [],
   "source": []
  },
  {
   "cell_type": "code",
   "execution_count": null,
   "metadata": {},
   "outputs": [],
   "source": []
  }
 ],
 "metadata": {
  "kernelspec": {
   "display_name": "Python 3",
   "language": "python",
   "name": "python3"
  },
  "language_info": {
   "codemirror_mode": {
    "name": "ipython",
    "version": 3
   },
   "file_extension": ".py",
   "mimetype": "text/x-python",
   "name": "python",
   "nbconvert_exporter": "python",
   "pygments_lexer": "ipython3",
   "version": "3.7.6"
  }
 },
 "nbformat": 4,
 "nbformat_minor": 4
}
